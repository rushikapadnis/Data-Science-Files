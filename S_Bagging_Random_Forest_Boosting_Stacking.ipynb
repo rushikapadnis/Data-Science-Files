{
  "nbformat": 4,
  "nbformat_minor": 0,
  "metadata": {
    "kernelspec": {
      "display_name": "Python 3",
      "language": "python",
      "name": "python3"
    },
    "language_info": {
      "codemirror_mode": {
        "name": "ipython",
        "version": 3
      },
      "file_extension": ".py",
      "mimetype": "text/x-python",
      "name": "python",
      "nbconvert_exporter": "python",
      "pygments_lexer": "ipython3",
      "version": "3.7.4"
    },
    "colab": {
      "provenance": []
    }
  },
  "cells": [
    {
      "cell_type": "code",
      "metadata": {
        "id": "kmZL6Q5wt8ai"
      },
      "source": [
        "# Bagged Decision Trees for Classification\n",
        "from pandas import read_csv\n",
        "from sklearn.model_selection import KFold\n",
        "from sklearn.model_selection import cross_val_score\n",
        "from sklearn.ensemble import BaggingClassifier\n",
        "from sklearn.tree import DecisionTreeClassifier\n",
        "import warnings\n",
        "warnings.filterwarnings(\"ignore\")\n",
        "\n",
        "filename = '/content/pima-indians-diabetes.data.csv'\n",
        "names = ['preg', 'plas', 'pres', 'skin', 'test', 'mass', 'pedi', 'age', 'class']\n",
        "dataframe = read_csv(filename, names=names)\n",
        "array = dataframe.values\n",
        "X = array[:,0:8]\n",
        "Y = array[:,8]\n",
        "\n",
        "seed = 7\n",
        "# kfold = KFold(n_splits=10,random_state=seed,shuffle=True) # evaluation method\n",
        "# shuffle=True indicates that the data should be shuffled before splitting it into folds.\n",
        "# Shuffling ensures that the data is randomly distributed across the folds.\n",
        "# https://scikit-learn.org/stable/modules/generated/sklearn.model_selection.KFold.html\n",
        "\n",
        "kfold = KFold(n_splits=10)\n",
        "cart = DecisionTreeClassifier()\n",
        "num_trees = 100\n",
        "\n",
        "#model = BaggingClassifier(estimator=cart, n_estimators=num_trees, random_state=seed) #Classifier, n_estimators: default=10\n",
        "model = BaggingClassifier(n_estimators=num_trees, random_state=seed) #Classifier, n_estimators: default=10\n",
        "results = cross_val_score(model, X, Y, cv=kfold)"
      ],
      "execution_count": null,
      "outputs": []
    },
    {
      "cell_type": "code",
      "metadata": {
        "id": "_aIO9VQp3CI_",
        "colab": {
          "base_uri": "https://localhost:8080/"
        },
        "outputId": "20920381-9b28-4f4d-ad41-d91cb16b1f9f"
      },
      "source": [
        "results"
      ],
      "execution_count": null,
      "outputs": [
        {
          "output_type": "execute_result",
          "data": {
            "text/plain": [
              "array([0.66233766, 0.84415584, 0.75324675, 0.64935065, 0.83116883,\n",
              "       0.83116883, 0.83116883, 0.84415584, 0.68421053, 0.78947368])"
            ]
          },
          "metadata": {},
          "execution_count": 24
        }
      ]
    },
    {
      "cell_type": "code",
      "source": [
        "print(results.mean())"
      ],
      "metadata": {
        "colab": {
          "base_uri": "https://localhost:8080/"
        },
        "id": "-6k6xJWXfJxV",
        "outputId": "e03ed72a-27e5-49fe-dfa6-4849e4ad5bf1"
      },
      "execution_count": null,
      "outputs": [
        {
          "output_type": "stream",
          "name": "stdout",
          "text": [
            "0.7720437457279563\n"
          ]
        }
      ]
    },
    {
      "cell_type": "code",
      "metadata": {
        "id": "cr6QYDf2t8ak"
      },
      "source": [
        "# Random Forest Classification\n",
        "from pandas import read_csv\n",
        "from sklearn.model_selection import KFold\n",
        "from sklearn.model_selection import cross_val_score\n",
        "from sklearn.ensemble import RandomForestClassifier\n",
        "\n",
        "array=dataframe.values\n",
        "X = array[:,0:8]\n",
        "Y = array[:,8]\n",
        "\n",
        "num_trees = 100\n",
        "max_features = 3 #Total features m=8, K=3 i.e. randomly select 3 features\n",
        "kfold = KFold(n_splits=10)\n",
        "\n",
        "model = RandomForestClassifier(n_estimators=num_trees, max_features=max_features) # try random_state=2, n_estimators=10 by default, default=gini\n",
        "results = cross_val_score(model, X, Y, cv=kfold)"
      ],
      "execution_count": null,
      "outputs": []
    },
    {
      "cell_type": "code",
      "source": [
        "results"
      ],
      "metadata": {
        "id": "un9gF8JVf-Bd",
        "colab": {
          "base_uri": "https://localhost:8080/"
        },
        "outputId": "fb17bb27-c5b8-447e-83ff-be0e6cb9de2e"
      },
      "execution_count": null,
      "outputs": [
        {
          "output_type": "execute_result",
          "data": {
            "text/plain": [
              "array([0.7012987 , 0.81818182, 0.74025974, 0.66233766, 0.80519481,\n",
              "       0.79220779, 0.83116883, 0.84415584, 0.71052632, 0.80263158])"
            ]
          },
          "metadata": {},
          "execution_count": 27
        }
      ]
    },
    {
      "cell_type": "code",
      "source": [
        "print(results.mean())"
      ],
      "metadata": {
        "id": "uTTe3PZkgAC_",
        "colab": {
          "base_uri": "https://localhost:8080/"
        },
        "outputId": "703c262a-d768-4318-e14c-7150e5786c9b"
      },
      "execution_count": null,
      "outputs": [
        {
          "output_type": "stream",
          "name": "stdout",
          "text": [
            "0.7707963089542036\n"
          ]
        }
      ]
    },
    {
      "cell_type": "code",
      "metadata": {
        "id": "3T6_k9Out8am"
      },
      "source": [
        "# AdaBoost Classification\n",
        "from pandas import read_csv\n",
        "from sklearn.model_selection import KFold\n",
        "from sklearn.model_selection import cross_val_score\n",
        "from sklearn.ensemble import AdaBoostClassifier\n",
        "filename = '/content/pima-indians-diabetes.data.csv'\n",
        "names = ['preg', 'plas', 'pres', 'skin', 'test', 'mass', 'pedi', 'age', 'class']\n",
        "dataframe = read_csv(filename, names=names)\n",
        "array = dataframe.values\n",
        "X = array[:,0:8]\n",
        "Y = array[:,8]\n",
        "num_trees = 10 # try 20,30\n",
        "seed=7\n",
        "kfold = KFold(n_splits=10, random_state=seed,shuffle=True)\n",
        "model = AdaBoostClassifier(n_estimators=num_trees, random_state=seed) #n_estimators=50 by default\n",
        "results = cross_val_score(model, X, Y, cv=kfold)"
      ],
      "execution_count": null,
      "outputs": []
    },
    {
      "cell_type": "code",
      "source": [
        "results"
      ],
      "metadata": {
        "id": "8yxsor_egV3n",
        "colab": {
          "base_uri": "https://localhost:8080/"
        },
        "outputId": "b8d48bf4-905b-4dfc-f87f-6d47d4c95252"
      },
      "execution_count": null,
      "outputs": [
        {
          "output_type": "execute_result",
          "data": {
            "text/plain": [
              "array([0.80519481, 0.68831169, 0.67532468, 0.83116883, 0.81818182,\n",
              "       0.79220779, 0.63636364, 0.72727273, 0.72368421, 0.75      ])"
            ]
          },
          "metadata": {},
          "execution_count": 30
        }
      ]
    },
    {
      "cell_type": "code",
      "source": [
        "print(results.mean())"
      ],
      "metadata": {
        "id": "cNK_gV61gV-S",
        "colab": {
          "base_uri": "https://localhost:8080/"
        },
        "outputId": "9ed0cf19-e22a-4dde-faa2-ba76884a4dbe"
      },
      "execution_count": null,
      "outputs": [
        {
          "output_type": "stream",
          "name": "stdout",
          "text": [
            "0.744771018455229\n"
          ]
        }
      ]
    },
    {
      "cell_type": "code",
      "metadata": {
        "id": "k1Ifbp_pt8am"
      },
      "source": [
        "# Stacking Ensemble for Classification\n",
        "from pandas import read_csv\n",
        "from sklearn.model_selection import KFold\n",
        "from sklearn.model_selection import cross_val_score\n",
        "from sklearn.linear_model import LogisticRegression\n",
        "from sklearn.tree import DecisionTreeClassifier\n",
        "from sklearn.svm import SVC # Support Vector Classifier\n",
        "from sklearn.ensemble import VotingClassifier\n",
        "\n",
        "filename = '/content/pima-indians-diabetes.data.csv'\n",
        "names = ['preg', 'plas', 'pres', 'skin', 'test', 'mass', 'pedi', 'age', 'class']\n",
        "dataframe = read_csv(filename, names=names)\n",
        "array = dataframe.values\n",
        "X = array[:,0:8]\n",
        "Y = array[:,8]\n",
        "kfold = KFold(n_splits=10)\n",
        "\n",
        "# create the sub models\n",
        "estimators = [] # create empty list for different algorithms\n",
        "\n",
        "model1 = LogisticRegression(max_iter=500)\n",
        "estimators.append(('logistic', model1))\n",
        "\n",
        "model2 = DecisionTreeClassifier()\n",
        "estimators.append(('cart', model2))\n",
        "\n",
        "model3 = SVC()\n",
        "estimators.append(('svc', model3))\n",
        "\n",
        "# create the ensemble model\n",
        "ensemble = VotingClassifier(estimators)\n",
        "results = cross_val_score(ensemble, X, Y, cv=kfold)"
      ],
      "execution_count": null,
      "outputs": []
    },
    {
      "cell_type": "code",
      "source": [
        "estimators"
      ],
      "metadata": {
        "id": "_vgXMHGo0jwJ",
        "colab": {
          "base_uri": "https://localhost:8080/"
        },
        "outputId": "2e1c72e4-718b-492d-f2fa-c24e75f90a2c"
      },
      "execution_count": null,
      "outputs": [
        {
          "output_type": "execute_result",
          "data": {
            "text/plain": [
              "[('logistic', LogisticRegression(max_iter=500)),\n",
              " ('cart', DecisionTreeClassifier()),\n",
              " ('svc', SVC())]"
            ]
          },
          "metadata": {},
          "execution_count": 33
        }
      ]
    },
    {
      "cell_type": "code",
      "source": [
        "results"
      ],
      "metadata": {
        "id": "YQ9ifIKnhR3n",
        "colab": {
          "base_uri": "https://localhost:8080/"
        },
        "outputId": "cadb75c9-b14f-44f5-9021-9be0666eaa83"
      },
      "execution_count": null,
      "outputs": [
        {
          "output_type": "execute_result",
          "data": {
            "text/plain": [
              "array([0.64935065, 0.80519481, 0.72727273, 0.64935065, 0.77922078,\n",
              "       0.80519481, 0.83116883, 0.84415584, 0.76315789, 0.77631579])"
            ]
          },
          "metadata": {},
          "execution_count": 34
        }
      ]
    },
    {
      "cell_type": "code",
      "source": [
        "print(results.mean())"
      ],
      "metadata": {
        "id": "aenDOUC0hR_Z",
        "colab": {
          "base_uri": "https://localhost:8080/"
        },
        "outputId": "1b44edd2-4471-46d4-c4ba-ee86b6aed8df"
      },
      "execution_count": null,
      "outputs": [
        {
          "output_type": "stream",
          "name": "stdout",
          "text": [
            "0.7630382775119618\n"
          ]
        }
      ]
    },
    {
      "cell_type": "markdown",
      "source": [
        "# **Additional Code: \"random_state = any int\"**"
      ],
      "metadata": {
        "id": "JiGk0tGEgMVy"
      }
    },
    {
      "cell_type": "code",
      "source": [
        "from sklearn.model_selection import train_test_split\n",
        "import numpy as np\n",
        "\n",
        "# Generate data for the example (values from 0 to 10)\n",
        "data = np.arange(10)\n",
        "\n",
        "# Split the data into training and testing sets\n",
        "X_train, X_test, y_train, y_test = train_test_split(data,data, test_size=0.3, random_state=20)\n",
        "\n",
        "# Display the training and testing sets\n",
        "print(\"Training set X:\", X_train)\n",
        "print(\"Testing set X:\", X_test)\n",
        "print(\"Training labels y:\", y_train)\n",
        "print(\"Testing labels y:\", y_test)\n",
        "\n",
        "'''\n",
        "First time Output:\n",
        "Training set X: [0 7 2 9 4 3 6]\n",
        "Testing set X: [8 1 5]\n",
        "Training labels y: [0 7 2 9 4 3 6]\n",
        "Testing labels y: [8 1 5]\n",
        "\n",
        "Second time Output\n",
        "Same as above\n",
        "\n",
        "TRY TO CHANGE random_state = ANY OTHER INTEGER\n",
        "'''"
      ],
      "metadata": {
        "colab": {
          "base_uri": "https://localhost:8080/",
          "height": 122
        },
        "id": "x8EiQtUWe-jj",
        "outputId": "6947a9b0-4f09-4947-e91a-ede214ec39d0"
      },
      "execution_count": null,
      "outputs": [
        {
          "output_type": "stream",
          "name": "stdout",
          "text": [
            "Training set X: [5 0 2 6 9 4 3]\n",
            "Testing set X: [7 1 8]\n",
            "Training labels y: [5 0 2 6 9 4 3]\n",
            "Testing labels y: [7 1 8]\n"
          ]
        },
        {
          "output_type": "execute_result",
          "data": {
            "text/plain": [
              "'\\nFirst time Output:\\nTraining set X: [0 7 2 9 4 3 6]\\nTesting set X: [8 1 5]\\nTraining labels y: [0 7 2 9 4 3 6]\\nTesting labels y: [8 1 5]\\n\\nSecond time Output\\nSame as above\\n\\nTRY TO CHANGE random_state = ANY OTHER INTEGER\\n'"
            ],
            "application/vnd.google.colaboratory.intrinsic+json": {
              "type": "string"
            }
          },
          "metadata": {},
          "execution_count": 37
        }
      ]
    },
    {
      "cell_type": "markdown",
      "source": [
        "# **If random_state is not passed as an argument**"
      ],
      "metadata": {
        "id": "6KyS9b0KgelC"
      }
    },
    {
      "cell_type": "code",
      "source": [
        "from sklearn.model_selection import train_test_split\n",
        "import numpy as np\n",
        "\n",
        "# Generate data for the example (values from 0 to 99)\n",
        "data = np.arange(10)\n",
        "\n",
        "# Split the data into training and testing sets\n",
        "X_train, X_test, y_train, y_test = train_test_split(data, data, test_size=0.3)\n",
        "\n",
        "# Display the training and testing sets\n",
        "print(\"Training set X:\", X_train)\n",
        "print(\"Testing set X:\", X_test)\n",
        "print(\"Training labels y:\", y_train)\n",
        "print(\"Testing labels y:\", y_test)\n",
        "\n",
        "'''\n",
        "First time Output\n",
        "Training set X: [4 3 7 9 1 6 8]\n",
        "Testing set X: [0 2 5]\n",
        "Training labels y: [4 3 7 9 1 6 8]\n",
        "Testing labels y: [0 2 5]\n",
        "\n",
        "Second time Output\n",
        "Training set X: [6 8 2 3 7 1 9]\n",
        "Testing set X: [5 0 4]\n",
        "Training labels y: [6 8 2 3 7 1 9]\n",
        "Testing labels y: [5 0 4]\n",
        "'''"
      ],
      "metadata": {
        "colab": {
          "base_uri": "https://localhost:8080/",
          "height": 122
        },
        "id": "GG3aqBtnfirE",
        "outputId": "75ff7dc5-eaea-4608-a731-ef1b80852561"
      },
      "execution_count": null,
      "outputs": [
        {
          "output_type": "stream",
          "name": "stdout",
          "text": [
            "Training set X: [1 2 6 9 0 8 3]\n",
            "Testing set X: [4 5 7]\n",
            "Training labels y: [1 2 6 9 0 8 3]\n",
            "Testing labels y: [4 5 7]\n"
          ]
        },
        {
          "output_type": "execute_result",
          "data": {
            "text/plain": [
              "'\\nFirst time Output\\nTraining set X: [4 3 7 9 1 6 8]\\nTesting set X: [0 2 5]\\nTraining labels y: [4 3 7 9 1 6 8]\\nTesting labels y: [0 2 5]\\n\\nSecond time Output\\nTraining set X: [6 8 2 3 7 1 9]\\nTesting set X: [5 0 4]\\nTraining labels y: [6 8 2 3 7 1 9]\\nTesting labels y: [5 0 4]\\n'"
            ],
            "application/vnd.google.colaboratory.intrinsic+json": {
              "type": "string"
            }
          },
          "metadata": {},
          "execution_count": 39
        }
      ]
    }
  ]
}